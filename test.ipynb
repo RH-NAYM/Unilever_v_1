{
 "cells": [
  {
   "cell_type": "code",
   "execution_count": null,
   "metadata": {},
   "outputs": [],
   "source": [
    "[{'glow_and_lovely_crm': 'gl_foundation_crm'}, {'glow_and_lovely_crm': 'gl_aryuvedic_crm'}, {'glow_and_lovely_crm': 'gl_mltvit_crm'}, {'ponds_crm': 'ponds_white_beauty_crm'}, {'glow_and_lovely_fw': 'gl_insta_glow_fw'}, {'ponds_fw': 'ponds_white_beauty_fw'}, {'ponds_fw': 'ponds_pure_white_fw'}, {'ponds_fw': 'ponds_oil_control_fw'}, {'ponds_fw': 'ponds_pure_white_clay_fw'}, {'ponds_fw': 'ponds_white_beauty_clay_fw'}, {'sunsilk': 'sunsilk_black_large'}, {'sunsilk': 'sunsilk_black_small'}, {'sunsilk': 'sunsilk_tl_large'}, {'sunsilk': 'sunsilk_tl_small'}, {'sunsilk': 'sunsilk_hfs'}, {'sunsilk': 'sunsilk_hrr'}, {'sunsilk': 'sunsilk_volume'}, {'sunsilk': 'sunsilk_fresh'}, {'clear': 'clear_ahf'}, {'clear': 'clear_cac'}, {'clear': 'clear_csm_large'}, {'clear': 'clear_csm_small'}, {'tresemme': 'tresemme_cr'}, {'tresemme': 'tresemme_ks_large'}, {'tresemme': 'tresemme_ks_small'}, {'dove': 'dove_hfr_large'}, {'dove': 'dove_hfr_small'}, {'dove': 'dove_irp_large'}, {'dove': 'dove_irp_small'}, {'dove': 'dove_hg'}, {'dove': 'dove_no'}, {'conditioner': 'dove_cond'}, {'oral_care': 'pepsodent'}, {'boost': 'boost_std'}, {'horlicks': 'horlicks_diabetic'}, {'horlicks': 'horlicks_choco'}, {'horlicks': 'horlicks_junior'}, {'horlicks': 'horlicks_lite'}, {'horlicks': 'horlicks_mother'}, {'horlicks': 'horlicks_std'}, {'horlicks': 'horlicks_women'}, {'maltova': 'maltova_std'}, {'qpds': 'vaseline_tm'}, {'qpds': 'vaseline_hw'}, {'qpds': 'vaseline_aloe'}, {'qpds': 'dove_qpds'}, {'sos': 'lux'}, {'sos': 'lifeboy'}, {'sos': 'tibbet'}, {'sos': 'sandalina'}, {'sos': 'detol'}, {'sos': 'meril'}, {'sos': 'savlon'}, {'sos': 'keya'}, {'sos': 'bactrol'}, {'sos': 'himalaya_fw'}, {'sos': 'closeup'}, {'sos': 'colgate'}, {'sos': 'mediplus'}, {'sos': 'dano_pusti'}, {'sos': 'marks'}, {'sos': 'harpic'}]"
   ]
  },
  {
   "cell_type": "code",
   "execution_count": null,
   "metadata": {},
   "outputs": [],
   "source": []
  },
  {
   "cell_type": "code",
   "execution_count": null,
   "metadata": {},
   "outputs": [],
   "source": []
  },
  {
   "cell_type": "code",
   "execution_count": 1,
   "metadata": {},
   "outputs": [],
   "source": [
    "data = {\n",
    "    \"object\":{\n",
    "                \"da\":{\n",
    "                        \"ps\":[\n",
    "                            \"https://i.ibb.co/mG7cxFD/display-audit-168-16988305241892453492482315125.jpg\",\n",
    "                            \"https://i.ibb.co/rpt2JFq/C01-6225-jpg-rf-2652d509af5b98497e63b6d13eae1dde.jpg\"\n",
    "                        ],\n",
    "                        \"ds\":[\n",
    "                            \"https://i.ibb.co/BcGbJZw/ubl-ds-english-version-1-24.jpg\",\n",
    "                            \"https://i.ibb.co/Cpj5GfL/display-audit-178-16988979482964936100751368791.jpg\"\n",
    "                        ],\n",
    "                        \"ns\":[\n",
    "                            \"https://i.ibb.co/pfJvfs4/ns-version-1-pic-20.jpg\"\n",
    "                        ]\n",
    "                    },\n",
    "                \"qpds\":[\"https://i.ibb.co/pfJvfs4/ns-version-1-pic-20.jpg\"],\n",
    "                \"sos\":[\"https://i.ibb.co/pfJvfs4/ns-version-1-pic-20.jpg\"]\n",
    "    }\n",
    "}"
   ]
  },
  {
   "cell_type": "code",
   "execution_count": null,
   "metadata": {},
   "outputs": [],
   "source": [
    "exe = {}\n",
    "def loop_over_elements(object):\n",
    "    for key,value in object.items():\n",
    "        if isinstance(value, dict):\n",
    "            loop_over_elements(value)\n",
    "        elif isinstance(value, list):\n",
    "            for items in value:\n",
    "                it = {key:items}\n",
    "                exe.update(it)\n"
   ]
  },
  {
   "cell_type": "code",
   "execution_count": null,
   "metadata": {},
   "outputs": [],
   "source": [
    "loop_over_elements(data)"
   ]
  },
  {
   "cell_type": "code",
   "execution_count": null,
   "metadata": {},
   "outputs": [],
   "source": [
    "print(exe)"
   ]
  },
  {
   "cell_type": "code",
   "execution_count": null,
   "metadata": {},
   "outputs": [],
   "source": [
    "ready_items_for_od = {}\n",
    "def loop_over_object(object):\n",
    "    \n",
    "    # ready_items_for_od = {}\n",
    "    for key,value in object.items():\n",
    "        if isinstance(value, dict):\n",
    "            loop_over_object(value)\n",
    "        elif isinstance(value, list):\n",
    "            for items in value:\n",
    "                it = {key:items}\n",
    "                ready_items_for_od.update(it)\n",
    "    return ready_items_for_od"
   ]
  },
  {
   "cell_type": "code",
   "execution_count": null,
   "metadata": {},
   "outputs": [],
   "source": [
    "loop_over_object(data)"
   ]
  },
  {
   "cell_type": "code",
   "execution_count": 4,
   "metadata": {},
   "outputs": [],
   "source": [
    "import asyncio\n",
    "async def process_items(key, items, ready_items_for_od):\n",
    "    it = {key: items}\n",
    "    ready_items_for_od.update(it)\n",
    "\n",
    "async def loop_over_object(object, ready_items_for_od=None):\n",
    "    if ready_items_for_od is None:\n",
    "        ready_items_for_od = {}\n",
    "\n",
    "    tasks = []\n",
    "\n",
    "    for key, value in object.items():\n",
    "        if isinstance(value, dict):\n",
    "            await loop_over_object(value, ready_items_for_od)\n",
    "        elif isinstance(value, list):\n",
    "            for items in value:\n",
    "                tasks.append(process_items(key, items, ready_items_for_od))\n",
    "\n",
    "    allItems = await asyncio.gather(*tasks)\n",
    "    return allItems"
   ]
  },
  {
   "cell_type": "code",
   "execution_count": 5,
   "metadata": {},
   "outputs": [
    {
     "data": {
      "text/plain": [
       "<coroutine object loop_over_object at 0x00000235AD48C5F0>"
      ]
     },
     "execution_count": 5,
     "metadata": {},
     "output_type": "execute_result"
    }
   ],
   "source": [
    "loop_over_object(data)"
   ]
  },
  {
   "cell_type": "code",
   "execution_count": null,
   "metadata": {},
   "outputs": [],
   "source": []
  },
  {
   "cell_type": "code",
   "execution_count": 15,
   "metadata": {},
   "outputs": [
    {
     "data": {
      "text/plain": [
       "{'ps': 'https://i.ibb.co/rpt2JFq/C01-6225-jpg-rf-2652d509af5b98497e63b6d13eae1dde.jpg',\n",
       " 'ds': 'https://i.ibb.co/Cpj5GfL/display-audit-178-16988979482964936100751368791.jpg',\n",
       " 'ns': 'https://i.ibb.co/pfJvfs4/ns-version-1-pic-20.jpg',\n",
       " 'qpds': 'https://i.ibb.co/pfJvfs4/ns-version-1-pic-20.jpg',\n",
       " 'sos': 'https://i.ibb.co/pfJvfs4/ns-version-1-pic-20.jpg'}"
      ]
     },
     "execution_count": 15,
     "metadata": {},
     "output_type": "execute_result"
    }
   ],
   "source": [
    "data = {\n",
    "    \"object\":{\n",
    "                \"da\":{\n",
    "                        \"ps\":[\n",
    "                            \"https://i.ibb.co/mG7cxFD/display-audit-168-16988305241892453492482315125.jpg\",\n",
    "                            \"https://i.ibb.co/rpt2JFq/C01-6225-jpg-rf-2652d509af5b98497e63b6d13eae1dde.jpg\"\n",
    "                        ],\n",
    "                        \"ds\":[\n",
    "                            \"https://i.ibb.co/BcGbJZw/ubl-ds-english-version-1-24.jpg\",\n",
    "                            \"https://i.ibb.co/Cpj5GfL/display-audit-178-16988979482964936100751368791.jpg\"\n",
    "                        ],\n",
    "                        \"ns\":[\n",
    "                            \"https://i.ibb.co/pfJvfs4/ns-version-1-pic-20.jpg\"\n",
    "                        ]\n",
    "                    },\n",
    "                \"qpds\":[\"https://i.ibb.co/pfJvfs4/ns-version-1-pic-20.jpg\"],\n",
    "                \"sos\":[\"https://i.ibb.co/pfJvfs4/ns-version-1-pic-20.jpg\"]\n",
    "    }\n",
    "}\n",
    "body = {}\n",
    "def loop_over_object(object):\n",
    "    for key,value in object.items():\n",
    "        if isinstance(value, dict):\n",
    "            loop_over_object(value)\n",
    "        elif isinstance(value, list):\n",
    "            for items in value:\n",
    "                it = {key:items}\n",
    "                body.update(it)\n",
    "    return body\n",
    "\n",
    "\n",
    "loop_over_object(data)"
   ]
  },
  {
   "cell_type": "code",
   "execution_count": 14,
   "metadata": {},
   "outputs": [
    {
     "data": {
      "text/plain": [
       "{'ps': 'https://i.ibb.co/rpt2JFq/C01-6225-jpg-rf-2652d509af5b98497e63b6d13eae1dde.jpg',\n",
       " 'ds': 'https://i.ibb.co/Cpj5GfL/display-audit-178-16988979482964936100751368791.jpg',\n",
       " 'ns': 'https://i.ibb.co/pfJvfs4/ns-version-1-pic-20.jpg',\n",
       " 'qpds': 'https://i.ibb.co/pfJvfs4/ns-version-1-pic-20.jpg',\n",
       " 'sos': 'https://i.ibb.co/pfJvfs4/ns-version-1-pic-20.jpg'}"
      ]
     },
     "execution_count": 14,
     "metadata": {},
     "output_type": "execute_result"
    }
   ],
   "source": []
  },
  {
   "cell_type": "code",
   "execution_count": 21,
   "metadata": {},
   "outputs": [],
   "source": [
    "data = {\n",
    "    \"object\":{\n",
    "                \"da\":{\n",
    "                        \"ps\":[\n",
    "                            \"https://i.ibb.co/mG7cxFD/display-audit-168-16988305241892453492482315125.jpg\",\n",
    "                            \"https://i.ibb.co/rpt2JFq/C01-6225-jpg-rf-2652d509af5b98497e63b6d13eae1dde.jpg\"\n",
    "                        ],\n",
    "                        \"ds\":[\n",
    "                            \"https://i.ibb.co/BcGbJZw/ubl-ds-english-version-1-24.jpg\",\n",
    "                            \"https://i.ibb.co/Cpj5GfL/display-audit-178-16988979482964936100751368791.jpg\"\n",
    "                        ],\n",
    "                        \"ns\":[\n",
    "                            \"https://i.ibb.co/pfJvfs4/ns-version-1-pic-20.jpg\"\n",
    "                        ]\n",
    "                    },\n",
    "                \"qpds\":[\"https://i.ibb.co/pfJvfs4/ns-version-1-pic-20.jpg\"],\n",
    "                \"sos\":[\"https://i.ibb.co/pfJvfs4/ns-version-1-pic-20.jpg\"]\n",
    "    }\n",
    "}"
   ]
  },
  {
   "cell_type": "code",
   "execution_count": 27,
   "metadata": {},
   "outputs": [
    {
     "name": "stdout",
     "output_type": "stream",
     "text": [
      "perfect store https://i.ibb.co/mG7cxFD/display-audit-168-16988305241892453492482315125.jpg\n",
      "perfect store https://i.ibb.co/rpt2JFq/C01-6225-jpg-rf-2652d509af5b98497e63b6d13eae1dde.jpg\n",
      "drug store https://i.ibb.co/BcGbJZw/ubl-ds-english-version-1-24.jpg\n",
      "drug store https://i.ibb.co/Cpj5GfL/display-audit-178-16988979482964936100751368791.jpg\n",
      "nutrition store https://i.ibb.co/pfJvfs4/ns-version-1-pic-20.jpg\n",
      "qpds https://i.ibb.co/pfJvfs4/ns-version-1-pic-20.jpg\n",
      "sos https://i.ibb.co/pfJvfs4/ns-version-1-pic-20.jpg\n"
     ]
    }
   ],
   "source": [
    "main = {}\n",
    "def body_dict(object):\n",
    "    for key,value in object.items():\n",
    "        if isinstance(value,dict):\n",
    "            body_dict(value)\n",
    "        elif isinstance(value,list):\n",
    "            for image in value:\n",
    "                if key==\"ps\":\n",
    "                    print(\"perfect store\",image)\n",
    "                elif key==\"ns\":\n",
    "                    print(\"nutrition store\",image)\n",
    "                elif key==\"ds\":\n",
    "                    print(\"drug store\",image)\n",
    "                elif key==\"qpds\":\n",
    "                    print(\"qpds\",image)\n",
    "                elif key==\"sos\":\n",
    "                    print(\"sos\",image)\n",
    "body_dict(data)\n"
   ]
  },
  {
   "cell_type": "code",
   "execution_count": 7,
   "metadata": {},
   "outputs": [],
   "source": [
    "object = {'da': 'https://i.ibb.co/mG7cxFD/display-audit-168-16988305241892453492482315125.jpg'} "
   ]
  },
  {
   "cell_type": "code",
   "execution_count": 9,
   "metadata": {},
   "outputs": [
    {
     "name": "stdout",
     "output_type": "stream",
     "text": [
      "https://i.ibb.co/mG7cxFD/display-audit-168-16988305241892453492482315125.jpg\n"
     ]
    }
   ],
   "source": [
    "for key,value in object.items():\n",
    "    print(value)"
   ]
  },
  {
   "cell_type": "code",
   "execution_count": 10,
   "metadata": {},
   "outputs": [],
   "source": [
    "xx = ['https://i.ibb.co/mG7cxFD/display-audit-168-16988305241892453492482315125.jpg', 'https://i.ibb.co/rpt2JFq/C01-6225-jpg-rf-2652d509af5b98497e63b6d13eae1dde.jpg', 'https://i.ibb.co/BcGbJZw/ubl-ds-english-version-1-24.jpg', 'https://i.ibb.co/Cpj5GfL/display-audit-178-16988979482964936100751368791.jpg']"
   ]
  },
  {
   "cell_type": "code",
   "execution_count": 17,
   "metadata": {},
   "outputs": [],
   "source": [
    "async def loop_item(model, items):\n",
    "    task = []\n",
    "    data = {}\n",
    "    for item in items:\n",
    "        task.append(model, item)\n",
    "    res = await asyncio.gather(*task)\n",
    "    for i in res:\n",
    "        data.update({i})\n",
    "    return data\n"
   ]
  },
  {
   "cell_type": "code",
   "execution_count": 18,
   "metadata": {},
   "outputs": [
    {
     "data": {
      "text/plain": [
       "<coroutine object loop_item at 0x0000020276B391C0>"
      ]
     },
     "execution_count": 18,
     "metadata": {},
     "output_type": "execute_result"
    }
   ],
   "source": [
    "loop_item(\"da\",xx)"
   ]
  },
  {
   "cell_type": "code",
   "execution_count": 19,
   "metadata": {},
   "outputs": [
    {
     "ename": "NameError",
     "evalue": "name 'data' is not defined",
     "output_type": "error",
     "traceback": [
      "\u001b[1;31m---------------------------------------------------------------------------\u001b[0m",
      "\u001b[1;31mNameError\u001b[0m                                 Traceback (most recent call last)",
      "Cell \u001b[1;32mIn[19], line 1\u001b[0m\n\u001b[1;32m----> 1\u001b[0m \u001b[38;5;28mprint\u001b[39m(\u001b[43mdata\u001b[49m)\n",
      "\u001b[1;31mNameError\u001b[0m: name 'data' is not defined"
     ]
    }
   ],
   "source": [
    "print(data)"
   ]
  },
  {
   "cell_type": "code",
   "execution_count": 21,
   "metadata": {},
   "outputs": [
    {
     "name": "stdout",
     "output_type": "stream",
     "text": [
      "Collecting aiohttp\n",
      "  Using cached aiohttp-3.9.1-cp310-cp310-win_amd64.whl.metadata (7.6 kB)\n",
      "Requirement already satisfied: attrs>=17.3.0 in c:\\users\\naymm\\appdata\\roaming\\python\\python310\\site-packages (from aiohttp) (23.1.0)\n",
      "Collecting multidict<7.0,>=4.5 (from aiohttp)\n",
      "  Using cached multidict-6.0.4-cp310-cp310-win_amd64.whl (28 kB)\n",
      "Collecting yarl<2.0,>=1.0 (from aiohttp)\n",
      "  Using cached yarl-1.9.4-cp310-cp310-win_amd64.whl.metadata (32 kB)\n",
      "Collecting frozenlist>=1.1.1 (from aiohttp)\n",
      "  Using cached frozenlist-1.4.1-cp310-cp310-win_amd64.whl.metadata (12 kB)\n",
      "Collecting aiosignal>=1.1.2 (from aiohttp)\n",
      "  Using cached aiosignal-1.3.1-py3-none-any.whl (7.6 kB)\n",
      "Collecting async-timeout<5.0,>=4.0 (from aiohttp)\n",
      "  Using cached async_timeout-4.0.3-py3-none-any.whl.metadata (4.2 kB)\n",
      "Requirement already satisfied: idna>=2.0 in c:\\users\\naymm\\miniconda3\\envs\\detection\\lib\\site-packages (from yarl<2.0,>=1.0->aiohttp) (3.4)\n",
      "Using cached aiohttp-3.9.1-cp310-cp310-win_amd64.whl (364 kB)\n",
      "Using cached async_timeout-4.0.3-py3-none-any.whl (5.7 kB)\n",
      "Using cached frozenlist-1.4.1-cp310-cp310-win_amd64.whl (50 kB)\n",
      "Using cached yarl-1.9.4-cp310-cp310-win_amd64.whl (76 kB)\n",
      "Installing collected packages: multidict, frozenlist, async-timeout, yarl, aiosignal, aiohttp\n",
      "Successfully installed aiohttp-3.9.1 aiosignal-1.3.1 async-timeout-4.0.3 frozenlist-1.4.1 multidict-6.0.4 yarl-1.9.4\n",
      "Note: you may need to restart the kernel to use updated packages.\n"
     ]
    }
   ],
   "source": [
    "%pip install aiohttp"
   ]
  },
  {
   "cell_type": "code",
   "execution_count": 2,
   "metadata": {},
   "outputs": [],
   "source": [
    "data = {\n",
    "        \"object\": {\n",
    "            \"da\": [\n",
    "                \"https://i.ibb.co/mG7cxFD/display-audit-168-16988305241892453492482315125.jpg\",\n",
    "                \"https://i.ibb.co/rpt2JFq/C01-6225-jpg-rf-2652d509af5b98497e63b6d13eae1dde.jpg\",\n",
    "                \"https://i.ibb.co/BcGbJZw/ubl-ds-english-version-1-24.jpg\",\n",
    "                \"https://i.ibb.co/Cpj5GfL/display-audit-178-16988979482964936100751368791.jpg\",\n",
    "            ]\n",
    "        }\n",
    "    }"
   ]
  },
  {
   "cell_type": "code",
   "execution_count": 3,
   "metadata": {},
   "outputs": [],
   "source": [
    "import asyncio\n",
    "import aiohttp\n",
    "\n",
    "async def fetch_data(url):\n",
    "    async with aiohttp.ClientSession() as session:\n",
    "        async with session.get(url) as response:\n",
    "            return await response.read()\n",
    "\n",
    "async def print_all_data(data):\n",
    "    tasks = []\n",
    "\n",
    "    for url in data[\"object\"][\"da\"]:\n",
    "        tasks.append(fetch_data(url))\n",
    "\n",
    "    responses = await asyncio.gather(*tasks)\n",
    "\n",
    "    for url, response in zip(data[\"object\"][\"da\"], responses):\n",
    "        print(f\"Data from {url}:\\n{response.decode('utf-8')}\\n\")\n",
    "\n"
   ]
  },
  {
   "cell_type": "code",
   "execution_count": 4,
   "metadata": {},
   "outputs": [
    {
     "data": {
      "text/plain": [
       "<coroutine object print_all_data at 0x000001BBBE7FE2D0>"
      ]
     },
     "execution_count": 4,
     "metadata": {},
     "output_type": "execute_result"
    }
   ],
   "source": [
    "print_all_data(data)"
   ]
  },
  {
   "cell_type": "code",
   "execution_count": null,
   "metadata": {},
   "outputs": [],
   "source": []
  }
 ],
 "metadata": {
  "kernelspec": {
   "display_name": "detection",
   "language": "python",
   "name": "python3"
  },
  "language_info": {
   "codemirror_mode": {
    "name": "ipython",
    "version": 3
   },
   "file_extension": ".py",
   "mimetype": "text/x-python",
   "name": "python",
   "nbconvert_exporter": "python",
   "pygments_lexer": "ipython3",
   "version": "3.10.13"
  }
 },
 "nbformat": 4,
 "nbformat_minor": 2
}
